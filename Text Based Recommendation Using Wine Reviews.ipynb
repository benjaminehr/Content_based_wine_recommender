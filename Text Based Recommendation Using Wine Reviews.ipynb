{
 "cells": [
  {
   "cell_type": "markdown",
   "metadata": {},
   "source": [
    "# Content-based Recommendation System in Python\n",
    "### Using Natural Language Processing (NLP) on wine reviews to recommend the next purchase"
   ]
  },
  {
   "cell_type": "code",
   "execution_count": 1,
   "metadata": {},
   "outputs": [],
   "source": [
    "import pandas as pd\n",
    "import numpy as np\n",
    "import matplotlib.pyplot as plt\n",
    "import seaborn as sns\n",
    "import re\n",
    "import nltk\n",
    "from collections import defaultdict\n",
    "#nltk.download('stopwords')\n",
    "#nltk.download('punkt')\n",
    "#nltk.download('wordnet')\n",
    "from nltk.corpus import stopwords\n",
    "from nltk.stem.porter import PorterStemmer\n",
    "from nltk.stem.wordnet import WordNetLemmatizer\n",
    "from nltk.tokenize import word_tokenize\n",
    "from nltk.tokenize.treebank import TreebankWordDetokenizer\n",
    "from sklearn.feature_extraction.text import TfidfVectorizer\n",
    "from rake_nltk import Rake\n",
    "\n",
    "import progressbar\n",
    "from IPython.display import HTML\n",
    "\n",
    "%matplotlib inline\n",
    "plt.rcParams['figure.figsize'] = [12, 8]\n",
    "sns.set()\n",
    "pd.options.display.max_colwidth = 100"
   ]
  },
  {
   "cell_type": "code",
   "execution_count": 2,
   "metadata": {},
   "outputs": [
    {
     "data": {
      "text/html": [
       "<div>\n",
       "<style scoped>\n",
       "    .dataframe tbody tr th:only-of-type {\n",
       "        vertical-align: middle;\n",
       "    }\n",
       "\n",
       "    .dataframe tbody tr th {\n",
       "        vertical-align: top;\n",
       "    }\n",
       "\n",
       "    .dataframe thead th {\n",
       "        text-align: right;\n",
       "    }\n",
       "</style>\n",
       "<table border=\"1\" class=\"dataframe\">\n",
       "  <thead>\n",
       "    <tr style=\"text-align: right;\">\n",
       "      <th></th>\n",
       "      <th>country</th>\n",
       "      <th>description</th>\n",
       "      <th>designation</th>\n",
       "      <th>points</th>\n",
       "      <th>price</th>\n",
       "      <th>province</th>\n",
       "      <th>region_1</th>\n",
       "      <th>region_2</th>\n",
       "      <th>taster_name</th>\n",
       "      <th>taster_twitter_handle</th>\n",
       "      <th>title</th>\n",
       "      <th>variety</th>\n",
       "      <th>winery</th>\n",
       "    </tr>\n",
       "  </thead>\n",
       "  <tbody>\n",
       "    <tr>\n",
       "      <th>0</th>\n",
       "      <td>Italy</td>\n",
       "      <td>Aromas include tropical fruit, broom, brimstone and dried herb. The palate isn't overly expressi...</td>\n",
       "      <td>Vulkà Bianco</td>\n",
       "      <td>87</td>\n",
       "      <td>NaN</td>\n",
       "      <td>Sicily &amp; Sardinia</td>\n",
       "      <td>Etna</td>\n",
       "      <td>NaN</td>\n",
       "      <td>Kerin O’Keefe</td>\n",
       "      <td>@kerinokeefe</td>\n",
       "      <td>Nicosia 2013 Vulkà Bianco  (Etna)</td>\n",
       "      <td>White Blend</td>\n",
       "      <td>Nicosia</td>\n",
       "    </tr>\n",
       "    <tr>\n",
       "      <th>1</th>\n",
       "      <td>Portugal</td>\n",
       "      <td>This is ripe and fruity, a wine that is smooth while still structured. Firm tannins are filled o...</td>\n",
       "      <td>Avidagos</td>\n",
       "      <td>87</td>\n",
       "      <td>15.0</td>\n",
       "      <td>Douro</td>\n",
       "      <td>NaN</td>\n",
       "      <td>NaN</td>\n",
       "      <td>Roger Voss</td>\n",
       "      <td>@vossroger</td>\n",
       "      <td>Quinta dos Avidagos 2011 Avidagos Red (Douro)</td>\n",
       "      <td>Portuguese Red</td>\n",
       "      <td>Quinta dos Avidagos</td>\n",
       "    </tr>\n",
       "  </tbody>\n",
       "</table>\n",
       "</div>"
      ],
      "text/plain": [
       "    country  \\\n",
       "0     Italy   \n",
       "1  Portugal   \n",
       "\n",
       "                                                                                           description  \\\n",
       "0  Aromas include tropical fruit, broom, brimstone and dried herb. The palate isn't overly expressi...   \n",
       "1  This is ripe and fruity, a wine that is smooth while still structured. Firm tannins are filled o...   \n",
       "\n",
       "    designation  points  price           province region_1 region_2  \\\n",
       "0  Vulkà Bianco      87    NaN  Sicily & Sardinia     Etna      NaN   \n",
       "1      Avidagos      87   15.0              Douro      NaN      NaN   \n",
       "\n",
       "     taster_name taster_twitter_handle  \\\n",
       "0  Kerin O’Keefe          @kerinokeefe   \n",
       "1     Roger Voss            @vossroger   \n",
       "\n",
       "                                           title         variety  \\\n",
       "0              Nicosia 2013 Vulkà Bianco  (Etna)     White Blend   \n",
       "1  Quinta dos Avidagos 2011 Avidagos Red (Douro)  Portuguese Red   \n",
       "\n",
       "                winery  \n",
       "0              Nicosia  \n",
       "1  Quinta dos Avidagos  "
      ]
     },
     "execution_count": 2,
     "metadata": {},
     "output_type": "execute_result"
    }
   ],
   "source": [
    "# Loading the data\n",
    "df = pd.read_csv('data/winemag-data-130k-v2.csv')\n",
    "del df['Unnamed: 0']\n",
    "# Show df to get an idea of the data\n",
    "df.head(2)"
   ]
  },
  {
   "cell_type": "code",
   "execution_count": null,
   "metadata": {},
   "outputs": [],
   "source": []
  },
  {
   "cell_type": "markdown",
   "metadata": {},
   "source": [
    "## Data Analysis and definition of the project goals from a business perspective\n",
    "\n",
    "\n",
    "For this project, I was interested in using data from my professional background in the beverage retail business. I am currently working as a data analyst in this domain, so the question of recommending wine is a of personal interest to me.  \n",
    "\n",
    "From a business perspective, it is important to develop methods of creating a personal customer experience. When you are a high revenue customer or are in a shop with well-trained salespersons than chance is good to get excellent wine recommendations. In general, the shopping experience will benefit greatly from a personal approach to a given product. \n",
    "In the chosen dataset this kind of personal knowledge is ingrained in the written description of a wine. I want to translate that information into an algorithmic recommendation. The use case in mind would be an enriched sales process per email or phone.\n",
    "\n",
    "The questions I pose in the analysis are\n",
    "\n",
    "**1.) How many different Tasters are in the dataset, and how do they rate?**\n",
    " * The rating and description of a wine is provided by a specific taster. I want to know more about those persons and their rating behavior.  \n",
    "\n",
    "**2.) What kind of information does the written description contain?**\n",
    " * The written description is a summary of the tasting experience and should provide enough information about the wine to provide an informed understanding of the wine's characteristics. \n",
    "\n",
    "**3.) How good is a recommendation engine based on description texts?** \n",
    " * Does a recommendation based on this information in text form provide a useful experience for the customers\n",
    "\n",
    "The focus of the project lies in this last, central question. I want to experiment with content-based recommendation engines as well as with natural language processing, so this dataset provides a good opportunity to experiment with both aspects.\n",
    "\n",
    "### Genereal Data Analysis\n",
    "\n",
    "#### Statistics"
   ]
  },
  {
   "cell_type": "code",
   "execution_count": 3,
   "metadata": {},
   "outputs": [
    {
     "data": {
      "text/html": [
       "<div>\n",
       "<style scoped>\n",
       "    .dataframe tbody tr th:only-of-type {\n",
       "        vertical-align: middle;\n",
       "    }\n",
       "\n",
       "    .dataframe tbody tr th {\n",
       "        vertical-align: top;\n",
       "    }\n",
       "\n",
       "    .dataframe thead th {\n",
       "        text-align: right;\n",
       "    }\n",
       "</style>\n",
       "<table border=\"1\" class=\"dataframe\">\n",
       "  <thead>\n",
       "    <tr style=\"text-align: right;\">\n",
       "      <th></th>\n",
       "      <th>points</th>\n",
       "      <th>price</th>\n",
       "    </tr>\n",
       "  </thead>\n",
       "  <tbody>\n",
       "    <tr>\n",
       "      <th>count</th>\n",
       "      <td>129971.000000</td>\n",
       "      <td>120975.000000</td>\n",
       "    </tr>\n",
       "    <tr>\n",
       "      <th>mean</th>\n",
       "      <td>88.447138</td>\n",
       "      <td>35.363389</td>\n",
       "    </tr>\n",
       "    <tr>\n",
       "      <th>std</th>\n",
       "      <td>3.039730</td>\n",
       "      <td>41.022218</td>\n",
       "    </tr>\n",
       "    <tr>\n",
       "      <th>min</th>\n",
       "      <td>80.000000</td>\n",
       "      <td>4.000000</td>\n",
       "    </tr>\n",
       "    <tr>\n",
       "      <th>25%</th>\n",
       "      <td>86.000000</td>\n",
       "      <td>17.000000</td>\n",
       "    </tr>\n",
       "    <tr>\n",
       "      <th>50%</th>\n",
       "      <td>88.000000</td>\n",
       "      <td>25.000000</td>\n",
       "    </tr>\n",
       "    <tr>\n",
       "      <th>75%</th>\n",
       "      <td>91.000000</td>\n",
       "      <td>42.000000</td>\n",
       "    </tr>\n",
       "    <tr>\n",
       "      <th>max</th>\n",
       "      <td>100.000000</td>\n",
       "      <td>3300.000000</td>\n",
       "    </tr>\n",
       "  </tbody>\n",
       "</table>\n",
       "</div>"
      ],
      "text/plain": [
       "              points          price\n",
       "count  129971.000000  120975.000000\n",
       "mean       88.447138      35.363389\n",
       "std         3.039730      41.022218\n",
       "min        80.000000       4.000000\n",
       "25%        86.000000      17.000000\n",
       "50%        88.000000      25.000000\n",
       "75%        91.000000      42.000000\n",
       "max       100.000000    3300.000000"
      ]
     },
     "execution_count": 3,
     "metadata": {},
     "output_type": "execute_result"
    }
   ],
   "source": [
    "df.describe()"
   ]
  },
  {
   "cell_type": "markdown",
   "metadata": {},
   "source": [
    "The mean rating is 88.45 points with a standard deviation of 3.  \n",
    "The mean price of a bottle wine is 35.36 Dollar, the standard deviation 41.02. The most expansive wine has a price of 3,300.- Dollar. With this spread of prices, the median of 25.-  Dollar is a better way to measure the middle.  "
   ]
  },
  {
   "cell_type": "markdown",
   "metadata": {},
   "source": [
    "#### How are the ratings distributed across the varieties of the wines?"
   ]
  },
  {
   "cell_type": "code",
   "execution_count": 4,
   "metadata": {},
   "outputs": [
    {
     "data": {
      "image/png": "[encoded data removed]",
      "text/plain": [
       "<Figure size 432x288 with 1 Axes>"
      ]
     },
     "metadata": {
      "needs_background": "light"
     },
     "output_type": "display_data"
    }
   ],
   "source": [
    "var = df.groupby('variety').points.mean().sort_values()[-20:]\n",
    "y = var.index.to_list()\n",
    "x = var.to_list()\n",
    "\n",
    "fig = plt.figure()\n",
    "ax = fig.add_subplot(111)\n",
    "ax.plot(x, y, linewidth=2.5)\n",
    "\n",
    "ax.set_title('Average rating-points of the top 20 varieties\\n', size=16, loc='left')\n",
    "ax.set_xlabel('Rating')\n",
    "\n",
    "plt.savefig('Average_rating_top20')\n",
    "plt.show()\n"
   ]
  },
  {
   "cell_type": "markdown",
   "metadata": {},
   "source": [
    "The top 3 rated varieties are the Terrantez, the Tinta del Pais, and the Gelbe Traminer with an average rating of 95 points. It is interesting that in the region of the top 20 rated wines, we can see a drop in the scores of 3 points."
   ]
  },
  {
   "cell_type": "code",
   "execution_count": 5,
   "metadata": {},
   "outputs": [
    {
     "data": {
      "image/png": "[encoded data removed]",
      "text/plain": [
       "<Figure size 432x288 with 1 Axes>"
      ]
     },
     "metadata": {
      "needs_background": "light"
     },
     "output_type": "display_data"
    }
   ],
   "source": [
    "var = df.groupby('variety').points.mean().sort_values()\n",
    "#y = var.index.to_list()\n",
    "x = var.to_list()\n",
    "y = range(0,len(var))\n",
    "\n",
    "fig = plt.figure()\n",
    "ax = fig.add_subplot(111)\n",
    "ax.plot(x,y, linewidth=2.5)\n",
    "\n",
    "ax.set_title('Distribution of ratings per variety \\n', size=16, loc='left')\n",
    "ax.set_ylabel('Cumulative count of variety')\n",
    "ax.set_xlabel('Rating')\n",
    "\n",
    "plt.savefig('Variety_Rating_distr')\n",
    "plt.show()"
   ]
  },
  {
   "cell_type": "markdown",
   "metadata": {},
   "source": [
    "The average ratings per variety are cumulative distributed on a sigmoid curve.  "
   ]
  },
  {
   "cell_type": "markdown",
   "metadata": {},
   "source": [
    "With this initial knowledge of the data we can tackle the main questions.\n",
    "\n",
    "### 1.) How many different Tasters are in the dataset, and how do they rate?\n",
    "\n",
    "* The rating and description of a wine is provided by a specific taster. \n",
    "* I want to know more about those persons and there rating behavior."
   ]
  },
  {
   "cell_type": "code",
   "execution_count": 6,
   "metadata": {},
   "outputs": [
    {
     "data": {
      "text/plain": [
       "19"
      ]
     },
     "execution_count": 6,
     "metadata": {},
     "output_type": "execute_result"
    }
   ],
   "source": [
    "df.taster_name.nunique()"
   ]
  },
  {
   "cell_type": "markdown",
   "metadata": {},
   "source": [
    "There are 19 different Taster in the dataset"
   ]
  },
  {
   "cell_type": "code",
   "execution_count": 7,
   "metadata": {},
   "outputs": [
    {
     "data": {
      "image/png": "[encoded data removed]",
      "text/plain": [
       "<Figure size 432x288 with 1 Axes>"
      ]
     },
     "metadata": {
      "needs_background": "light"
     },
     "output_type": "display_data"
    }
   ],
   "source": [
    "taster = df.groupby('taster_name').points.median().sort_values(ascending=False)\n",
    "taster_order = taster.index.tolist()\n",
    "\n",
    "fig = plt.figure()\n",
    "ax = fig.add_subplot(111)\n",
    "ax = sns.boxplot(y=\"taster_name\", x=\"points\", data=df, linewidth=2, order=taster_order)\n",
    "\n",
    "ax.set_title('Distribution of the rating per taster \\n', size=16, loc='left')\n",
    "ax.set_xlabel('Rating')\n",
    "ax.set_ylabel('Name of the Taster')\n",
    "\n",
    "plt.savefig('Average_Rating_Taster')\n",
    "plt.show()"
   ]
  },
  {
   "cell_type": "code",
   "execution_count": 8,
   "metadata": {},
   "outputs": [
    {
     "data": {
      "image/png": "[encoded data removed]",
      "text/plain": [
       "<Figure size 432x288 with 1 Axes>"
      ]
     },
     "metadata": {
      "needs_background": "light"
     },
     "output_type": "display_data"
    }
   ],
   "source": [
    "taster = df.groupby('taster_name').price.median().sort_values(ascending=False)\n",
    "taster_order = taster.index.tolist()\n",
    "\n",
    "fig = plt.figure()\n",
    "ax = fig.add_subplot(111)\n",
    "ax = sns.boxplot(y=\"taster_name\", x=\"price\", data=df, linewidth=2, order=taster_order)\n",
    "plt.xlim(0, 100)\n",
    "\n",
    "ax.set_title(\"Distribution of the tasted wine's price per taster \\n\", size=16, loc='left')\n",
    "ax.set_xlabel('Price of the wine (limited to $100,-)')\n",
    "ax.set_ylabel('Name of the Taster')\n",
    "\n",
    "plt.savefig('Average_Price_Taster')\n",
    "plt.show()"
   ]
  },
  {
   "cell_type": "markdown",
   "metadata": {},
   "source": [
    "* There are 19 different Taster overall, \n",
    "* which rate on average between 85.86 and 90.56 points.\n",
    "* The distribution shows that the taster have a different price range of wines to taste. \n",
    "* The top 2 taster in the price and rating section are the same\n",
    "\n",
    "\n",
    "### 2.) What kind of information does the written description contain?\n",
    "\n",
    "* To construct the recommendation engine it is important to understand the content of the text descriptions"
   ]
  },
  {
   "cell_type": "code",
   "execution_count": 9,
   "metadata": {},
   "outputs": [
    {
     "name": "stdout",
     "output_type": "stream",
     "text": [
      "1\n",
      "This is ripe and fruity, a wine that is smooth while still structured. Firm tannins are filled out with juicy red berry fruits and freshened with acidity. It's  already drinkable, although it will certainly be better from 2016.\n",
      "2\n",
      "Tart and snappy, the flavors of lime flesh and rind dominate. Some green pineapple pokes through, with crisp acidity underscoring the flavors. The wine was all stainless-steel fermented.\n",
      "3\n",
      "Pineapple rind, lemon pith and orange blossom start off the aromas. The palate is a bit more opulent, with notes of honey-drizzled guava and mango giving way to a slightly astringent, semidry finish.\n",
      "4\n",
      "Much like the regular bottling from 2012, this comes across as rather rough and tannic, with rustic, earthy, herbal characteristics. Nonetheless, if you think of it as a pleasantly unfussy country wine, it's a good companion to a hearty winter stew.\n"
     ]
    }
   ],
   "source": [
    "# Taking a look at the describtions\n",
    "for i in range(1,5):\n",
    "    print(i)\n",
    "    print(df['description'].loc[i])"
   ]
  },
  {
   "cell_type": "markdown",
   "metadata": {},
   "source": [
    "In this small subset, we can find some characteristics of the descriptions:\n",
    "* **associative terminology:** the taste of wine is described with associations like green pineapple, earthy and herbal notes, red berry fruits\n",
    "* **descriptive terminology:** flavors with a direct understanding like dryness, taste of tannins, acidity, and sweetness\n",
    "* other information about the wine: in some cases, information like the best year to drink the wine, the province or region, or the variety are also described in the text.  "
   ]
  },
  {
   "cell_type": "markdown",
   "metadata": {},
   "source": [
    "#### How many characters does a describtion have?"
   ]
  },
  {
   "cell_type": "code",
   "execution_count": 10,
   "metadata": {},
   "outputs": [
    {
     "data": {
      "image/png": "[encoded data removed]",
      "text/plain": [
       "<Figure size 432x288 with 1 Axes>"
      ]
     },
     "metadata": {
      "needs_background": "light"
     },
     "output_type": "display_data"
    }
   ],
   "source": [
    "descr_len = df.description.apply(len)\n",
    "descr_mean = np.round(np.mean(descr_len),1)\n",
    "\n",
    "fig = plt.figure()\n",
    "ax = fig.add_subplot(111)\n",
    "ax.hist(descr_len, bins=100)\n",
    "plt.axvline(descr_mean, linewidth=2, color='r')\n",
    "plt.text(descr_mean + 10,6800,'Mean: {}'.format(descr_mean), color='r', size=14)\n",
    "\n",
    "ax.set_title('Distribution of lenght of the written descriptions \\n', size=16, loc='left')\n",
    "ax.set_xlabel('Character length')\n",
    "\n",
    "plt.savefig('Descr_Char_length')\n",
    "plt.show()"
   ]
  },
  {
   "cell_type": "markdown",
   "metadata": {},
   "source": [
    "The character length of the descriptions is slightly right-skewed with a mean of 242.6 characters per description.  \n",
    "To see the distribution of the different terms, let's split the text up into keywords."
   ]
  },
  {
   "cell_type": "code",
   "execution_count": 11,
   "metadata": {},
   "outputs": [],
   "source": [
    "# setting stopwords for now and later use\n",
    "stop_words = set(stopwords.words(\"english\"))"
   ]
  },
  {
   "cell_type": "code",
   "execution_count": 12,
   "metadata": {},
   "outputs": [
    {
     "data": {
      "image/png": "[encoded data removed]",
      "text/plain": [
       "<Figure size 432x288 with 1 Axes>"
      ]
     },
     "metadata": {
      "needs_background": "light"
     },
     "output_type": "display_data"
    }
   ],
   "source": [
    "# Detokenizer combines tokenized elements\n",
    "detokenizer = TreebankWordDetokenizer()\n",
    "\n",
    "def wrangl_desc(desc):\n",
    "    desc = word_tokenize(desc.lower())\n",
    "    desc = [token for token in desc if token not in stop_words and token.isalpha()]\n",
    "    return detokenizer.detokenize(desc)\n",
    "\n",
    "df[\"wrangl_desc\"] = df[\"description\"].apply(wrangl_desc)\n",
    "word_occurrence = df[\"wrangl_desc\"].str.split(expand=True).stack().value_counts()\n",
    "total_words = sum(word_occurrence)\n",
    "\n",
    "# plot most common words \n",
    "top_words = word_occurrence[:30]/total_words\n",
    "ax = sns.barplot(x = top_words.values * 100, y = top_words.index)\n",
    "ax.set_title(\"Occurrence of most frequent words \\n\", size=16, loc='left')\n",
    "ax.set_xlabel('% of word in total words')\n",
    "\n",
    "plt.savefig('Most_common_words')\n",
    "plt.show()\n"
   ]
  },
  {
   "cell_type": "code",
   "execution_count": 13,
   "metadata": {},
   "outputs": [],
   "source": [
    "# adding not relevant words to the stop_words set\n",
    "irrev = {'wine', 'flavors', 'palate', 'drink', 'aromas'}\n",
    "stop_words.update(irrev)"
   ]
  },
  {
   "cell_type": "markdown",
   "metadata": {},
   "source": [
    "* I added meaningless terms to the stopwords\n",
    "* The distribution shows that the different aspects of a wine - the smell, the taste, the associations are well represented in the descriptions. \n",
    "* with this we can tackle the central question of the project:\n",
    "\n",
    "### 3.) How good is a recommendation engine based on description texts?\n",
    "\n",
    "To answer this question, there is some data wrangling to do"
   ]
  },
  {
   "cell_type": "markdown",
   "metadata": {},
   "source": [
    "#### Checking for duplicates and NaN's\n",
    "Overall there are 129971 different wines in the dataset with 13 columns.  "
   ]
  },
  {
   "cell_type": "code",
   "execution_count": 14,
   "metadata": {},
   "outputs": [
    {
     "name": "stdout",
     "output_type": "stream",
     "text": [
      "<class 'pandas.core.frame.DataFrame'>\n",
      "RangeIndex: 129971 entries, 0 to 129970\n",
      "Data columns (total 14 columns):\n",
      "country                  129908 non-null object\n",
      "description              129971 non-null object\n",
      "designation              92506 non-null object\n",
      "points                   129971 non-null int64\n",
      "price                    120975 non-null float64\n",
      "province                 129908 non-null object\n",
      "region_1                 108724 non-null object\n",
      "region_2                 50511 non-null object\n",
      "taster_name              103727 non-null object\n",
      "taster_twitter_handle    98758 non-null object\n",
      "title                    129971 non-null object\n",
      "variety                  129970 non-null object\n",
      "winery                   129971 non-null object\n",
      "wrangl_desc              129971 non-null object\n",
      "dtypes: float64(1), int64(1), object(12)\n",
      "memory usage: 13.9+ MB\n"
     ]
    }
   ],
   "source": [
    "df.info()"
   ]
  },
  {
   "cell_type": "code",
   "execution_count": 15,
   "metadata": {},
   "outputs": [
    {
     "name": "stdout",
     "output_type": "stream",
     "text": [
      "(63, 14)\n"
     ]
    }
   ],
   "source": [
    "# lets take a look at the NaN provinces\n",
    "print(df[df['province'].isnull()].shape)\n",
    "#df[df['province'].isnull()]"
   ]
  },
  {
   "cell_type": "markdown",
   "metadata": {},
   "source": [
    "There are 63 NaNs in the province column of the dataset."
   ]
  },
  {
   "cell_type": "code",
   "execution_count": 16,
   "metadata": {},
   "outputs": [
    {
     "data": {
      "text/plain": [
       "11131"
      ]
     },
     "execution_count": 16,
     "metadata": {},
     "output_type": "execute_result"
    }
   ],
   "source": [
    "# How many duplicated descriptions are in the data set?\n",
    "df.duplicated('title').sum()"
   ]
  },
  {
   "cell_type": "code",
   "execution_count": 17,
   "metadata": {},
   "outputs": [],
   "source": [
    "# Find duplicate articles\n",
    "#df[df.duplicated(['title'])].sort_values(by = 'title')"
   ]
  },
  {
   "cell_type": "markdown",
   "metadata": {},
   "source": [
    "There are 11131 duplicated descriptions in the the dataset. Let's remove those and the duplicated descriptions and wines."
   ]
  },
  {
   "cell_type": "code",
   "execution_count": 18,
   "metadata": {},
   "outputs": [],
   "source": [
    "df.drop_duplicates('title', inplace=True)\n",
    "df.drop_duplicates('description', inplace=True)"
   ]
  },
  {
   "cell_type": "markdown",
   "metadata": {},
   "source": [
    "#### Extracting the vintage of a wine from its name to filter the dataset on a specific year\n",
    "\n",
    "To handle the dataset and to provide just recommendations for available wines, the vintage has to be isolated and used as a filter."
   ]
  },
  {
   "cell_type": "code",
   "execution_count": 19,
   "metadata": {},
   "outputs": [],
   "source": [
    "years = df.title.str.extractall('(\\d+)')\n",
    "years.columns = ['year']\n",
    "years.year = pd.to_numeric(years.year)\n",
    "# filter vintage\n",
    "years = years.query('year == 2016')"
   ]
  },
  {
   "cell_type": "code",
   "execution_count": 20,
   "metadata": {},
   "outputs": [
    {
     "name": "stdout",
     "output_type": "stream",
     "text": [
      "3303\n",
      "3303\n"
     ]
    }
   ],
   "source": [
    "# check if there are duplicated index values\n",
    "print(len(years))\n",
    "print(years.index.get_level_values(level=0).nunique())"
   ]
  },
  {
   "cell_type": "code",
   "execution_count": 21,
   "metadata": {},
   "outputs": [],
   "source": [
    "years.index = years.index.droplevel(level=1)\n",
    "df = pd.concat([df, years], axis=1).dropna(subset=[\"year\"])"
   ]
  },
  {
   "cell_type": "markdown",
   "metadata": {},
   "source": [
    "#### Generating an ID for each wine"
   ]
  },
  {
   "cell_type": "code",
   "execution_count": 22,
   "metadata": {},
   "outputs": [],
   "source": [
    "wine_id = list([x for x in range(0,len(df))])\n",
    "df['wine_id'] = wine_id"
   ]
  },
  {
   "cell_type": "markdown",
   "metadata": {},
   "source": [
    "#### Transforming the wine descriptions with tf-idf"
   ]
  },
  {
   "cell_type": "code",
   "execution_count": 23,
   "metadata": {},
   "outputs": [],
   "source": [
    "docs = df.set_index('wine_id').description.astype('U')"
   ]
  },
  {
   "cell_type": "code",
   "execution_count": 24,
   "metadata": {},
   "outputs": [],
   "source": [
    "r = Rake()\n",
    "def tokenize(text):\n",
    "    \"\"\"\n",
    "    Function to tokenize the descriptions\n",
    "    For usage in the TfidfVectorizer Function\n",
    "    \"\"\"\n",
    "    # normalize case and remove punctuation\n",
    "    text = re.sub(r\"[^a-zA-Z]\", \" \", text.lower())   \n",
    "    r.extract_keywords_from_text(text)\n",
    "    tokens = list(r.get_word_degrees().keys())\n",
    "    tokens = [token for token in tokens if token not in stop_words]\n",
    "    #stemmed = [PorterStemmer().stem(w) for w in tokens]\n",
    "    lemmed = [WordNetLemmatizer().lemmatize(w) for w in tokens]\n",
    "    tagged = nltk.pos_tag(lemmed)\n",
    "    clean_tokens = [token[0] for token in tagged if token[1][0] in ['N', 'J']]\n",
    "    return clean_tokens"
   ]
  },
  {
   "cell_type": "code",
   "execution_count": 25,
   "metadata": {},
   "outputs": [
    {
     "name": "stdout",
     "output_type": "stream",
     "text": [
      "(3303, 3803)\n"
     ]
    }
   ],
   "source": [
    "# Fit the docs to the Vectorizer\n",
    "tf = TfidfVectorizer(tokenizer=tokenize, analyzer='word')\n",
    "   \n",
    "X_docs = tf.fit_transform(docs)\n",
    "labels = list(tf.get_feature_names())\n",
    "\n",
    "print(X_docs.toarray().shape)"
   ]
  },
  {
   "cell_type": "markdown",
   "metadata": {},
   "source": [
    "#### Creating a matrix with the cosine similarity of the tf-idf values"
   ]
  },
  {
   "cell_type": "code",
   "execution_count": 26,
   "metadata": {},
   "outputs": [],
   "source": [
    "# get a matrix with the tfidf values\n",
    "corpus_matrix = X_docs.toarray()\n",
    "\n",
    "# Take the dot product for the cosine similarity\n",
    "dot_prod_corpus = corpus_matrix.dot(np.transpose(corpus_matrix))\n",
    "\n",
    "# Create Dataframe with keywords:\n",
    "key_words = pd.DataFrame(data=corpus_matrix, columns = labels).transpose()"
   ]
  },
  {
   "cell_type": "markdown",
   "metadata": {},
   "source": [
    "### Define a function to find top n similar wines for a given wine id\n",
    "\n",
    "\n",
    "To recommend a wine for a customer is a tricky business.  You should know how much a buyer is willing to spend on a purchase. What provinces and varieties a person prefers and how important the wine rating is for the customer.  Those points aside, the domain knowledge of sommeliers and wine salespeople is invaluable to classify wines and recommend based on experience.   \n",
    "\n",
    "So, for this data science post, I want to investigate if the description of wines in this dataset, combined with provinces and varieties, holds enough information to base recommendations solely on these."
   ]
  },
  {
   "cell_type": "code",
   "execution_count": 27,
   "metadata": {},
   "outputs": [],
   "source": [
    "# Function to get a wine description:\n",
    "def print_wine(wine_id):\n",
    "    '''\n",
    "    Function to pretty print a specific wine\n",
    "    INPUT\n",
    "    wine_id - a wine id\n",
    "    '''\n",
    "    try:\n",
    "        wine = df[df['wine_id']==wine_id]\n",
    "        title = wine.iloc[0,10]\n",
    "        prov = wine.iloc[0,5]\n",
    "        print(\"Wine: {}\".format(title))\n",
    "        print(\"Province: {}\".format(prov))\n",
    "        print(\"Variety: {}\".format(wine.iloc[0,11]))\n",
    "        print(\"Points: {}\".format(wine.iloc[0,3]))\n",
    "        print(\"Price: {}\".format(wine.iloc[0,4]))\n",
    "        print(\"Taster: {}\".format(wine.iloc[0,8]))\n",
    "        print(\"Description: {}\".format(wine.iloc[0,1]))\n",
    "        print(\"========================================================================\")\n",
    "    except:\n",
    "        print(\"Please give a valid wine id (integer 0 to {})\". format(len(df)))"
   ]
  },
  {
   "cell_type": "code",
   "execution_count": 28,
   "metadata": {},
   "outputs": [],
   "source": [
    "def get_wine_names(wine_ids):\n",
    "    '''\n",
    "    Function to get the wine names in a list\n",
    "    INPUT\n",
    "    wine_id - a wine id\n",
    "    OUTPUT\n",
    "    wines - a list of wines associated with the wine_ids\n",
    "    \n",
    "    '''\n",
    "    if type(wine_ids)==int:\n",
    "        wine_ids = [wine_ids]\n",
    "    wine_lst = [df[df.wine_id==wine]['title'].to_string(index=False,header=False) for wine in wine_ids]    \n",
    "   \n",
    "    return wine_lst"
   ]
  },
  {
   "cell_type": "code",
   "execution_count": 29,
   "metadata": {},
   "outputs": [],
   "source": [
    "def find_similar_wines(wine_id, n=5):\n",
    "    '''\n",
    "    Function to get similar wines for a specific wine ID\n",
    "    INPUT\n",
    "    wine_id - a wine id\n",
    "    n - number of similar wines to return\n",
    "    OUTPUT\n",
    "    df_sim - a dataframe of the most similar wines by id, name and similarity\n",
    "    '''\n",
    "    # find the most similar wine indices \n",
    "    key_words_sims = []\n",
    "    \n",
    "    similar_idxs = np.argsort(dot_prod_corpus[wine_id])[::-1][1:n+1]\n",
    "    sims = np.sort(dot_prod_corpus[wine_id])[::-1][1:n+1]\n",
    "    for idx in similar_idxs:\n",
    "        wine_keys = key_words[key_words[idx] > 0][idx]\n",
    "        wine_keys = list(wine_keys.index)[::1]\n",
    "        key_words_sims.append(wine_keys)\n",
    "\n",
    "    # pull the movie titles based on the indices\n",
    "    similar_wines = get_wine_names(similar_idxs)\n",
    "    \n",
    "    # dataframe with similarities:\n",
    "    d = {'wine_id': similar_idxs, \n",
    "         'wine': similar_wines,\n",
    "        'similarity': sims, \n",
    "        'key_words': key_words_sims}\n",
    "    df_sims = pd.DataFrame(d)\n",
    " \n",
    "    return df_sims"
   ]
  },
  {
   "cell_type": "code",
   "execution_count": 30,
   "metadata": {},
   "outputs": [
    {
     "name": "stdout",
     "output_type": "stream",
     "text": [
      "Wine: Leyda 2016 Single Vineyard Garuma Sauvignon Blanc (Leyda Valley)\n",
      "Province: Leyda Valley\n",
      "Variety: Sauvignon Blanc\n",
      "Points: 87\n",
      "Price: 18.0\n",
      "Taster: Michael Schachner\n",
      "Description: A typically snappy opening with the pop of jalapeño gives way to a laser-sharp palate with bold acidity. Tart, mouthwatering citrus flavors come with green, herbal notes. This is cleansing and bone dry on the finish, but always a touch vegetal.\n",
      "========================================================================\n"
     ]
    },
    {
     "data": {
      "text/html": [
       "<div>\n",
       "<style scoped>\n",
       "    .dataframe tbody tr th:only-of-type {\n",
       "        vertical-align: middle;\n",
       "    }\n",
       "\n",
       "    .dataframe tbody tr th {\n",
       "        vertical-align: top;\n",
       "    }\n",
       "\n",
       "    .dataframe thead th {\n",
       "        text-align: right;\n",
       "    }\n",
       "</style>\n",
       "<table border=\"1\" class=\"dataframe\">\n",
       "  <thead>\n",
       "    <tr style=\"text-align: right;\">\n",
       "      <th></th>\n",
       "      <th>wine_id</th>\n",
       "      <th>wine</th>\n",
       "      <th>similarity</th>\n",
       "      <th>key_words</th>\n",
       "    </tr>\n",
       "  </thead>\n",
       "  <tbody>\n",
       "    <tr>\n",
       "      <th>0</th>\n",
       "      <td>1692</td>\n",
       "      <td>Château de Marsan 2016  Bordeaux Blanc</td>\n",
       "      <td>0.875996</td>\n",
       "      <td>[acidity, broader, character, citrus, crisp, intense, late, riper, tight, wait]</td>\n",
       "    </tr>\n",
       "    <tr>\n",
       "      <th>1</th>\n",
       "      <td>1204</td>\n",
       "      <td>Neumeister 2016 Steirische Klassik Sauvignon Blanc</td>\n",
       "      <td>0.278621</td>\n",
       "      <td>[citrus, core, crisp, fruit, lean, light, midpalate, refreshing, riper, savor, slight, spritz, w...</td>\n",
       "    </tr>\n",
       "    <tr>\n",
       "      <th>2</th>\n",
       "      <td>2025</td>\n",
       "      <td>Les Rocailles 2016 Apremont Vieilles Vignes Jacquère (Savoie)</td>\n",
       "      <td>0.273432</td>\n",
       "      <td>[acidity, bright, character, citrus, concentrate, crisp, fresh, great, intense, ready, salty, ti...</td>\n",
       "    </tr>\n",
       "    <tr>\n",
       "      <th>3</th>\n",
       "      <td>2869</td>\n",
       "      <td>Château de l'Aubrade 2016  Bordeaux Blanc</td>\n",
       "      <td>0.271416</td>\n",
       "      <td>[acidity, apricot, balance, citrus, crisp, family, favor, intense, late, lobre, riper, rope, taut]</td>\n",
       "    </tr>\n",
       "    <tr>\n",
       "      <th>4</th>\n",
       "      <td>1196</td>\n",
       "      <td>Herdade do Esporão 2016 V Verdelho (Alentejano)</td>\n",
       "      <td>0.263804</td>\n",
       "      <td>[acidity, character, drunk, grape, herbal, intense, late, spice, tangy, young]</td>\n",
       "    </tr>\n",
       "  </tbody>\n",
       "</table>\n",
       "</div>"
      ],
      "text/plain": [
       "   wine_id                                                            wine  \\\n",
       "0     1692                          Château de Marsan 2016  Bordeaux Blanc   \n",
       "1     1204              Neumeister 2016 Steirische Klassik Sauvignon Blanc   \n",
       "2     2025   Les Rocailles 2016 Apremont Vieilles Vignes Jacquère (Savoie)   \n",
       "3     2869                       Château de l'Aubrade 2016  Bordeaux Blanc   \n",
       "4     1196                 Herdade do Esporão 2016 V Verdelho (Alentejano)   \n",
       "\n",
       "   similarity  \\\n",
       "0    0.875996   \n",
       "1    0.278621   \n",
       "2    0.273432   \n",
       "3    0.271416   \n",
       "4    0.263804   \n",
       "\n",
       "                                                                                             key_words  \n",
       "0                      [acidity, broader, character, citrus, crisp, intense, late, riper, tight, wait]  \n",
       "1  [citrus, core, crisp, fruit, lean, light, midpalate, refreshing, riper, savor, slight, spritz, w...  \n",
       "2  [acidity, bright, character, citrus, concentrate, crisp, fresh, great, intense, ready, salty, ti...  \n",
       "3   [acidity, apricot, balance, citrus, crisp, family, favor, intense, late, lobre, riper, rope, taut]  \n",
       "4                       [acidity, character, drunk, grape, herbal, intense, late, spice, tangy, young]  "
      ]
     },
     "execution_count": 30,
     "metadata": {},
     "output_type": "execute_result"
    }
   ],
   "source": [
    "df_sims = find_similar_wines(425)\n",
    "print_wine(435)\n",
    "df_sims.head()"
   ]
  },
  {
   "cell_type": "code",
   "execution_count": 31,
   "metadata": {},
   "outputs": [
    {
     "name": "stdout",
     "output_type": "stream",
     "text": [
      "ID of the wine: 1692 \n",
      "\n",
      "Wine: Château de Marsan 2016  Bordeaux Blanc\n",
      "Province: Bordeaux\n",
      "Variety: Bordeaux-style White Blend\n",
      "Points: 88\n",
      "Price: 12.0\n",
      "Taster: Roger Voss\n",
      "Description: This wine is tight, crisp with citrus flavors and intense acidity. It is developing into a refreshing, broader wine that will have a riper character. Wait until late 2017.\n",
      "========================================================================\n",
      "ID of the wine: 1204 \n",
      "\n",
      "Wine: Neumeister 2016 Steirische Klassik Sauvignon Blanc\n",
      "Province: nan\n",
      "Variety: Sauvignon Blanc\n",
      "Points: 89\n",
      "Price: 25.0\n",
      "Taster: Anne Krebiehl MW\n",
      "Description: Just a whiff of citrus shows on the restrained nose. The palate is very crisp, even lean, disclosing slight spritz. Some riper fruit waits at the core but you have to savor the midpalate to find it. The wine is light and very refreshing.\n",
      "========================================================================\n",
      "ID of the wine: 2025 \n",
      "\n",
      "Wine: Les Rocailles 2016 Apremont Vieilles Vignes Jacquère (Savoie)\n",
      "Province: France Other\n",
      "Variety: Jacquère\n",
      "Points: 89\n",
      "Price: 18.0\n",
      "Taster: Roger Voss\n",
      "Description: Intense and crisp, this wine concentrates great acidity and tight citrus flavors. It's zesty, bright and fresh, with a refreshing, lightly salty character. Ready to drink.\n",
      "========================================================================\n",
      "ID of the wine: 2869 \n",
      "\n",
      "Wine: Château de l'Aubrade 2016  Bordeaux Blanc\n",
      "Province: Bordeaux\n",
      "Variety: Bordeaux-style White Blend\n",
      "Points: 87\n",
      "Price: 12.0\n",
      "Taster: Roger Voss\n",
      "Description: Crisp and taut, this Lobre family wine is on a tight rope. It balances between intense citrus acidity and riper apricot and pear favors. It will be better from late 2017.\n",
      "========================================================================\n",
      "ID of the wine: 1196 \n",
      "\n",
      "Wine: Herdade do Esporão 2016 V Verdelho (Alentejano)\n",
      "Province: Alentejano\n",
      "Variety: Verdelho\n",
      "Points: 86\n",
      "Price: 14.0\n",
      "Taster: Roger Voss\n",
      "Description: The wine brings out a strongly herbal, tangy character in this perfumed grape. With spice and intense acidity, the wine is still young, still with a closed character. This needs to be drunk from late 2017 or even 2018.\n",
      "========================================================================\n"
     ]
    }
   ],
   "source": [
    "for i in df_sims.wine_id:\n",
    "    print('ID of the wine: {} \\n'.format(i))\n",
    "    print_wine(i)"
   ]
  },
  {
   "cell_type": "markdown",
   "metadata": {},
   "source": [
    "### Create a function for content based recommendations\n",
    "\n"
   ]
  },
  {
   "cell_type": "code",
   "execution_count": 32,
   "metadata": {},
   "outputs": [
    {
     "data": {
      "text/plain": [
       "[544, 3176, 1103, 520, 2070]"
      ]
     },
     "execution_count": 32,
     "metadata": {},
     "output_type": "execute_result"
    }
   ],
   "source": [
    "# Lets asume there are 100 consumers who bought each 5 wines\n",
    "customer_dict = {}\n",
    "for cust in range(1,101):\n",
    "    customer_dict[cust]= list(np.random.randint(len(df), size=5))\n",
    "customer_dict[2]"
   ]
  },
  {
   "cell_type": "code",
   "execution_count": 33,
   "metadata": {},
   "outputs": [],
   "source": [
    "def make_content_recs(n=5):\n",
    "    '''\n",
    "    INPUT\n",
    "    n - Number of recommendations by user (default = 10)\n",
    "    OUTPUT\n",
    "    recs - a dictionary with keys of the user and values of the recommendations\n",
    "    '''\n",
    "    # Create dictionary to return with customers and recommendations\n",
    "    recs = defaultdict(list)\n",
    "    \n",
    "    # How many customers for progress bar\n",
    "    n_users = len(customer_dict)  \n",
    "    # Create the progressbar\n",
    "    cnter = 0\n",
    "    bar = progressbar.ProgressBar(maxval=n_users+1, \n",
    "                                  widgets=[progressbar.Bar('=', '[', ']'), ' ', progressbar.Percentage()])\n",
    "    bar.start()\n",
    "    \n",
    "    # For each customer\n",
    "    for cust in customer_dict:\n",
    "        # Update the progress bar\n",
    "        cnter+=1 \n",
    "        bar.update(cnter)\n",
    "        \n",
    "        # Wines allready consumed:\n",
    "        cust_wines = customer_dict[cust]\n",
    "        \n",
    "        # find the simmilar wines for each wine_id and concat the data for all articles of the user:\n",
    "        df_recs = pd.DataFrame()\n",
    "        for wine_id in customer_dict[cust]:\n",
    "            df_sim = find_similar_wines(wine_id)\n",
    "            df_recs = pd.concat([df_recs,df_sim])\n",
    "            \n",
    "        #Sorting all wines according the similarity accross all suggestions\n",
    "        df_recs = df_recs.sort_values('similarity', ascending=False).drop_duplicates('wine_id')\n",
    "        \n",
    "        # getting just the ids and filter allready bought wines:\n",
    "        temp_recs = [wine for wine in df_recs.wine_id if wine not in cust_wines]\n",
    "        \n",
    "        # creating the dictionary with just the top n recommendations\n",
    "        recs[cust]=temp_recs[:n]\n",
    "        \n",
    "    bar.finish()\n",
    "    return recs"
   ]
  },
  {
   "cell_type": "code",
   "execution_count": 34,
   "metadata": {
    "scrolled": false
   },
   "outputs": [
    {
     "name": "stderr",
     "output_type": "stream",
     "text": [
      "[========================================================================] 100%\n"
     ]
    }
   ],
   "source": [
    "recommendations = make_content_recs()"
   ]
  },
  {
   "cell_type": "code",
   "execution_count": 35,
   "metadata": {},
   "outputs": [
    {
     "name": "stdout",
     "output_type": "stream",
     "text": [
      "96\n",
      "Wine: Pacific Rim 2016 Wallula Vineyard Riesling (Horse Heaven Hills)\n",
      "Province: Washington\n",
      "Variety: Riesling\n",
      "Points: 88\n",
      "Price: 15.0\n",
      "Taster: Sean P. Sullivan\n",
      "Description: Subtle pear, orange rind and peach aromas lead this Riesling, along with a floral top note. It drinks off dry, with stone fruit and ale flavors that need more time in bottle to settle. It comes up a bit short on the finish.\n",
      "========================================================================\n",
      "1612\n",
      "Wine: DFJ Vinhos 2016 Casa do Lago Rosé (Lisboa)\n",
      "Province: Lisboa\n",
      "Variety: Rosé\n",
      "Points: 86\n",
      "Price: 10.0\n",
      "Taster: Roger Voss\n",
      "Description: Perfumed and bright, this is an attractive blend that includes Pinot Noir and Syrah. With its ripe creamy texture and exuberant red fruits, the wine is ready to drink.\n",
      "========================================================================\n",
      "2528\n",
      "Wine: Hess 2016 Shirtail Ranches Rosé (California)\n",
      "Province: California\n",
      "Variety: Rosé\n",
      "Points: 87\n",
      "Price: 13.0\n",
      "Taster: Jim Gordon\n",
      "Description: This copper-colored wine was made from mostly Rhône-style grapes and has earthy meaty aromas and flavors, a light to medium body and a texture that's rich and smooth. This is not a crisp fruity version, but a more savory complex one that can fill in for a red.\n",
      "========================================================================\n",
      "2104\n",
      "Wine: Schloss Gobelsburg 2016 Cistercien Rosé (Niederösterreich)\n",
      "Province: Niederösterreich\n",
      "Variety: Rosé\n",
      "Points: 90\n",
      "Price: 14.0\n",
      "Taster: Anne Krebiehl MW\n",
      "Description: Loads of fruit show on the nose of this wine: green and red apple, strawberry and ample, zesty citrus. The palate is taut, fresh, dry and precise, shot through with appetizing fruity flavors. A wonderful, flavorsome rosé, with or without food.\n",
      "========================================================================\n",
      "1437\n",
      "Wine: Ca' dei Zago 2016 Col Fondo Glera\n",
      "Province: Veneto\n",
      "Variety: Glera\n",
      "Points: 93\n",
      "Price: 25.0\n",
      "Taster: Kerin O’Keefe\n",
      "Description: This lightly sparkling, terroir-driven wine is loaded with soul and finesse. It's ethereal and bone dry, with delicately alluring aromas and flavors of white spring flower, ripe apple, Bartlett pear, citrus and Alpine herb. Crisp acidity and a silky mousse provide balance and finesse while a mineral note energizes the focused finish. The sediment at the bottom of the bottle adds even more flavor to the last glass.\n",
      "========================================================================\n"
     ]
    }
   ],
   "source": [
    "# Bought wines from customer 1:\n",
    "for i in customer_dict[1]:\n",
    "    print(i)\n",
    "    print_wine(i)"
   ]
  },
  {
   "cell_type": "code",
   "execution_count": 36,
   "metadata": {},
   "outputs": [
    {
     "name": "stdout",
     "output_type": "stream",
     "text": [
      "188\n",
      "Wine: Muddy Boot 2016 Rosé of Pinot Noir (California)\n",
      "Province: California\n",
      "Variety: Pinot Noir\n",
      "Points: 86\n",
      "Price: 13.0\n",
      "Taster: Jim Gordon\n",
      "Description: The deep-copper color and complex fruit aromas of this wine seem well matched with a rather broad texture and medium-full body. The raspberry flavors have a meaty savory accent.\n",
      "========================================================================\n",
      "2784\n",
      "Wine: Henri Bourgeois 2016 Les Jeunes Vignes Rosé (Sancerre)\n",
      "Province: Loire Valley\n",
      "Variety: Rosé\n",
      "Points: 87\n",
      "Price: 20.0\n",
      "Taster: Roger Voss\n",
      "Description: The wine is simply crisp red-berry fruit. It has red-currant and wild-strawberry flavors along with intense bright acidity. It's an attractive Pinot Noir, ready to drink now.\n",
      "========================================================================\n",
      "2599\n",
      "Wine: Brassfield 2016 Rosé (High Valley)\n",
      "Province: California\n",
      "Variety: Rosé\n",
      "Points: 86\n",
      "Price: 22.0\n",
      "Taster: Jim Gordon\n",
      "Description: This light-orange-colored wine has quite a bit of red wine character, from the raspberry aromas to rather meaty grapey flavors, smooth texture and medium to full body.\n",
      "========================================================================\n",
      "777\n",
      "Wine: DFJ Vinhos 2016 Portada Winemaker's Selection Rosé (Lisboa)\n",
      "Province: Lisboa\n",
      "Variety: Rosé\n",
      "Points: 85\n",
      "Price: 10.0\n",
      "Taster: Roger Voss\n",
      "Description: A blend of Pinot Noir and Touriga Nacional, this is a smoothly ripe wine. Its cherry and spice flavors are given just a hint of structure built by a tannic edge. This soft juicy wine is ready to drink.\n",
      "========================================================================\n",
      "3260\n",
      "Wine: Quinta do Monte d'Oiro 2016 Lybra Viognier-Arinto-Marsanne White (Lisboa)\n",
      "Province: Lisboa\n",
      "Variety: Portuguese White\n",
      "Points: 90\n",
      "Price: 40.0\n",
      "Taster: Roger Voss\n",
      "Description: From organically grown grapes, this rich wine has a smooth texture and balanced acidity. The producer specializes in Rhône-style wines and this rich blend, that includes Viognier and Marsanne, has fine yellow fruits as well as ripe plum and citrus flavors. Drink from 2018.\n",
      "========================================================================\n"
     ]
    }
   ],
   "source": [
    "# Recommendations for customer 1\n",
    "for i in recommendations[1]:\n",
    "    print(i)\n",
    "    print_wine(i)"
   ]
  },
  {
   "cell_type": "markdown",
   "metadata": {},
   "source": [
    "## Conclusion\n",
    "\n",
    "I think that the general quality of the recommendations is good. I believe that this way of comparing two different wines is an excellent addition to conventional ways of recommending wines like the province, variety, or price.  \n",
    "To evaluate the recommendations further explicit domain knowledge should be used.  \n",
    "\n",
    "**Further possibilities for developement:**\n",
    "* Prefilter the recommendations with price, rating, province or other variables\n",
    "* Combination of collaborative filtering with the content-based  recommendations\n",
    "* Incorporating of the algorithm in a sales workflow"
   ]
  },
  {
   "cell_type": "code",
   "execution_count": null,
   "metadata": {},
   "outputs": [],
   "source": []
  }
 ],
 "metadata": {
  "kernelspec": {
   "display_name": "Python 3",
   "language": "python",
   "name": "python3"
  },
  "language_info": {
   "codemirror_mode": {
    "name": "ipython",
    "version": 3
   },
   "file_extension": ".py",
   "mimetype": "text/x-python",
   "name": "python",
   "nbconvert_exporter": "python",
   "pygments_lexer": "ipython3",
   "version": "3.6.8"
  }
 },
 "nbformat": 4,
 "nbformat_minor": 2
}
