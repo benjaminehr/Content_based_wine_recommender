{
 "cells": [
  {
   "cell_type": "markdown",
   "metadata": {},
   "source": [
    "# Content-based Recommendation System in Python\n",
    "### Using Natural Language Processing (NLP) on wine reviews to recommend the next purchase"
   ]
  },
  {
   "cell_type": "code",
   "execution_count": 44,
   "metadata": {},
   "outputs": [],
   "source": [
    "import pandas as pd\n",
    "import numpy as np\n",
    "import matplotlib.pyplot as plt\n",
    "import seaborn as sns\n",
    "import pickle\n",
    "import math\n",
    "import re\n",
    "import nltk\n",
    "import time\n",
    "#nltk.download('stopwords')\n",
    "#nltk.download('punkt')\n",
    "#nltk.download('wordnet')\n",
    "from nltk.corpus import stopwords\n",
    "from nltk.stem.porter import PorterStemmer\n",
    "from nltk.stem.wordnet import WordNetLemmatizer\n",
    "from nltk.tokenize import word_tokenize\n",
    "from nltk.tokenize.treebank import TreebankWordDetokenizer\n",
    "from sklearn.feature_extraction.text import TfidfVectorizer\n",
    "from rake_nltk import Rake\n",
    "\n",
    "from collections import defaultdict\n",
    "import progressbar\n",
    "from IPython.display import HTML\n",
    "\n",
    "%matplotlib inline\n",
    "plt.rcParams['figure.figsize'] = [12, 8]\n",
    "sns.set()\n",
    "pd.options.display.max_colwidth = 100"
   ]
  },
  {
   "cell_type": "code",
   "execution_count": 45,
   "metadata": {},
   "outputs": [
    {
     "data": {
      "text/html": [
       "<div>\n",
       "<style scoped>\n",
       "    .dataframe tbody tr th:only-of-type {\n",
       "        vertical-align: middle;\n",
       "    }\n",
       "\n",
       "    .dataframe tbody tr th {\n",
       "        vertical-align: top;\n",
       "    }\n",
       "\n",
       "    .dataframe thead th {\n",
       "        text-align: right;\n",
       "    }\n",
       "</style>\n",
       "<table border=\"1\" class=\"dataframe\">\n",
       "  <thead>\n",
       "    <tr style=\"text-align: right;\">\n",
       "      <th></th>\n",
       "      <th>country</th>\n",
       "      <th>description</th>\n",
       "      <th>designation</th>\n",
       "      <th>points</th>\n",
       "      <th>price</th>\n",
       "      <th>province</th>\n",
       "      <th>region_1</th>\n",
       "      <th>region_2</th>\n",
       "      <th>taster_name</th>\n",
       "      <th>taster_twitter_handle</th>\n",
       "      <th>title</th>\n",
       "      <th>variety</th>\n",
       "      <th>winery</th>\n",
       "    </tr>\n",
       "  </thead>\n",
       "  <tbody>\n",
       "    <tr>\n",
       "      <th>0</th>\n",
       "      <td>Italy</td>\n",
       "      <td>Aromas include tropical fruit, broom, brimstone and dried herb. The palate isn't overly expressi...</td>\n",
       "      <td>Vulkà Bianco</td>\n",
       "      <td>87</td>\n",
       "      <td>NaN</td>\n",
       "      <td>Sicily &amp; Sardinia</td>\n",
       "      <td>Etna</td>\n",
       "      <td>NaN</td>\n",
       "      <td>Kerin O’Keefe</td>\n",
       "      <td>@kerinokeefe</td>\n",
       "      <td>Nicosia 2013 Vulkà Bianco  (Etna)</td>\n",
       "      <td>White Blend</td>\n",
       "      <td>Nicosia</td>\n",
       "    </tr>\n",
       "    <tr>\n",
       "      <th>1</th>\n",
       "      <td>Portugal</td>\n",
       "      <td>This is ripe and fruity, a wine that is smooth while still structured. Firm tannins are filled o...</td>\n",
       "      <td>Avidagos</td>\n",
       "      <td>87</td>\n",
       "      <td>15.0</td>\n",
       "      <td>Douro</td>\n",
       "      <td>NaN</td>\n",
       "      <td>NaN</td>\n",
       "      <td>Roger Voss</td>\n",
       "      <td>@vossroger</td>\n",
       "      <td>Quinta dos Avidagos 2011 Avidagos Red (Douro)</td>\n",
       "      <td>Portuguese Red</td>\n",
       "      <td>Quinta dos Avidagos</td>\n",
       "    </tr>\n",
       "  </tbody>\n",
       "</table>\n",
       "</div>"
      ],
      "text/plain": [
       "    country  \\\n",
       "0     Italy   \n",
       "1  Portugal   \n",
       "\n",
       "                                                                                           description  \\\n",
       "0  Aromas include tropical fruit, broom, brimstone and dried herb. The palate isn't overly expressi...   \n",
       "1  This is ripe and fruity, a wine that is smooth while still structured. Firm tannins are filled o...   \n",
       "\n",
       "    designation  points  price           province region_1 region_2  \\\n",
       "0  Vulkà Bianco      87    NaN  Sicily & Sardinia     Etna      NaN   \n",
       "1      Avidagos      87   15.0              Douro      NaN      NaN   \n",
       "\n",
       "     taster_name taster_twitter_handle  \\\n",
       "0  Kerin O’Keefe          @kerinokeefe   \n",
       "1     Roger Voss            @vossroger   \n",
       "\n",
       "                                           title         variety  \\\n",
       "0              Nicosia 2013 Vulkà Bianco  (Etna)     White Blend   \n",
       "1  Quinta dos Avidagos 2011 Avidagos Red (Douro)  Portuguese Red   \n",
       "\n",
       "                winery  \n",
       "0              Nicosia  \n",
       "1  Quinta dos Avidagos  "
      ]
     },
     "execution_count": 45,
     "metadata": {},
     "output_type": "execute_result"
    }
   ],
   "source": [
    "# Loading the data\n",
    "df = pd.read_csv('data/winemag-data-130k-v2.csv')\n",
    "del df['Unnamed: 0']\n",
    "# Show df to get an idea of the data\n",
    "df.head(2)"
   ]
  },
  {
   "cell_type": "markdown",
   "metadata": {},
   "source": [
    "## Data Analysis and definition of the blog's goal"
   ]
  },
  {
   "cell_type": "markdown",
   "metadata": {},
   "source": [
    "### How many different Taster are in the dataset?"
   ]
  },
  {
   "cell_type": "code",
   "execution_count": 46,
   "metadata": {},
   "outputs": [
    {
     "data": {
      "text/plain": [
       "19"
      ]
     },
     "execution_count": 46,
     "metadata": {},
     "output_type": "execute_result"
    }
   ],
   "source": [
    "df.taster_name.nunique()"
   ]
  },
  {
   "cell_type": "markdown",
   "metadata": {},
   "source": [
    "There are 19 different Taster in the dataset\n",
    "\n",
    "### Have those Taster a different profile?"
   ]
  },
  {
   "cell_type": "code",
   "execution_count": 47,
   "metadata": {},
   "outputs": [
    {
     "data": {
      "image/png": "[encoded data removed]",
      "text/plain": [
       "<Figure size 864x576 with 1 Axes>"
      ]
     },
     "metadata": {},
     "output_type": "display_data"
    }
   ],
   "source": [
    "taster = df.groupby('taster_name').points.mean().sort_values()\n",
    "y = taster.index.to_list()\n",
    "x = taster.to_list()\n",
    "\n",
    "fig = plt.figure()\n",
    "ax = fig.add_subplot(111)\n",
    "ax.plot(x, y)\n",
    "\n",
    "ax.set_title('Average rating-points per Taster')\n",
    "ax.set_xlabel('Rating points')\n",
    "\n",
    "plt.show()\n",
    "#plt.savefig('Average_Rating_Taster')"
   ]
  },
  {
   "cell_type": "markdown",
   "metadata": {},
   "source": [
    "### How are the reviews distributed across the varieties of the wines?"
   ]
  },
  {
   "cell_type": "code",
   "execution_count": 48,
   "metadata": {},
   "outputs": [
    {
     "data": {
      "image/png": "[encoded data removed]",
      "text/plain": [
       "<Figure size 864x576 with 1 Axes>"
      ]
     },
     "metadata": {},
     "output_type": "display_data"
    }
   ],
   "source": [
    "var = df.groupby('variety').points.mean().sort_values()[-20:]\n",
    "y = var.index.to_list()\n",
    "x = var.to_list()\n",
    "\n",
    "fig = plt.figure()\n",
    "ax = fig.add_subplot(111)\n",
    "ax.plot(x, y)\n",
    "\n",
    "ax.set_title('Average review-points of the top 20 varieties')\n",
    "ax.set_xlabel('Review points')\n",
    "\n",
    "plt.show()\n",
    "#plt.savefig('Average_rating_top20')"
   ]
  },
  {
   "cell_type": "code",
   "execution_count": 49,
   "metadata": {},
   "outputs": [
    {
     "data": {
      "image/png": "[encoded data removed]",
      "text/plain": [
       "<Figure size 864x576 with 1 Axes>"
      ]
     },
     "metadata": {},
     "output_type": "display_data"
    }
   ],
   "source": [
    "var = df.groupby('variety').points.mean().sort_values()\n",
    "#y = var.index.to_list()\n",
    "x = var.to_list()\n",
    "y = range(0,len(var))\n",
    "\n",
    "fig = plt.figure()\n",
    "ax = fig.add_subplot(111)\n",
    "ax.plot(x,y)\n",
    "\n",
    "ax.set_title('Distribution of ratings per variety')\n",
    "ax.set_ylabel('Number of variety')\n",
    "ax.set_xlabel('Rating')\n",
    "\n",
    "plt.show()\n",
    "#plt.savefig('Average_rating_bottom20')"
   ]
  },
  {
   "cell_type": "markdown",
   "metadata": {},
   "source": [
    "### Understanding the written description"
   ]
  },
  {
   "cell_type": "code",
   "execution_count": 50,
   "metadata": {},
   "outputs": [
    {
     "name": "stdout",
     "output_type": "stream",
     "text": [
      "1\n",
      "This is ripe and fruity, a wine that is smooth while still structured. Firm tannins are filled out with juicy red berry fruits and freshened with acidity. It's  already drinkable, although it will certainly be better from 2016.\n",
      "2\n",
      "Tart and snappy, the flavors of lime flesh and rind dominate. Some green pineapple pokes through, with crisp acidity underscoring the flavors. The wine was all stainless-steel fermented.\n",
      "3\n",
      "Pineapple rind, lemon pith and orange blossom start off the aromas. The palate is a bit more opulent, with notes of honey-drizzled guava and mango giving way to a slightly astringent, semidry finish.\n",
      "4\n",
      "Much like the regular bottling from 2012, this comes across as rather rough and tannic, with rustic, earthy, herbal characteristics. Nonetheless, if you think of it as a pleasantly unfussy country wine, it's a good companion to a hearty winter stew.\n"
     ]
    }
   ],
   "source": [
    "# Taking a look at the describtions\n",
    "for i in range(1,5):\n",
    "    print(i)\n",
    "    print(df['description'].loc[i])"
   ]
  },
  {
   "cell_type": "code",
   "execution_count": 51,
   "metadata": {},
   "outputs": [],
   "source": [
    "# setting stopwords for now and later use\n",
    "stop_words = set(stopwords.words(\"english\"))"
   ]
  },
  {
   "cell_type": "code",
   "execution_count": 52,
   "metadata": {},
   "outputs": [
    {
     "data": {
      "image/png": "[encoded data removed]",
      "text/plain": [
       "<Figure size 864x576 with 1 Axes>"
      ]
     },
     "metadata": {},
     "output_type": "display_data"
    }
   ],
   "source": [
    "# Detokenizer combines tokenized elements\n",
    "detokenizer = TreebankWordDetokenizer()\n",
    "\n",
    "def wrangl_desc(desc):\n",
    "    desc = word_tokenize(desc.lower())\n",
    "    desc = [token for token in desc if token not in stop_words and token.isalpha()]\n",
    "    return detokenizer.detokenize(desc)\n",
    "\n",
    "df[\"wrangl_desc\"] = df[\"description\"].apply(wrangl_desc)\n",
    "word_occurrence = df[\"wrangl_desc\"].str.split(expand=True).stack().value_counts()\n",
    "total_words = sum(word_occurrence)\n",
    "\n",
    "# plot most common words \n",
    "top_words = word_occurrence[:30]/total_words\n",
    "ax = sns.barplot(x = top_words.values * 100, y = top_words.index)\n",
    "ax.set_title(\"Occurrence of Most Frequent Words\")\n",
    "ax.set_xlabel('% of word in total words')\n",
    "plt.show()\n",
    "#plt.savefig('Most_common_words')"
   ]
  },
  {
   "cell_type": "code",
   "execution_count": null,
   "metadata": {},
   "outputs": [],
   "source": []
  },
  {
   "cell_type": "markdown",
   "metadata": {},
   "source": [
    "The description of a wine is based on the reviewer's ability to grasp the wine's nuances and poignantly communicate those findings. We can see that there are some references to other tastes like horseradish and herbs. There are also descriptions of flavors like acidity and spiciness.  \n",
    "\n",
    "This leads to the central question of this post: \n",
    "\n",
    "**Is it possible to give meaningful recommendations based on the description of a wine?**\n",
    "\n",
    "\n",
    "\n",
    "To recommend a wine for a customer is a tricky business.  You should know how much a buyer is willing to spend on a purchase. What provinces and varieties a person prefers and how important the wine rating is for the customer.  Those points aside, the domain knowledge of sommeliers and wine salespeople is invaluable to classify wines and recommend based on experience.   \n",
    "\n",
    "So, for this data science post, I want to investigate if the description of wines in this dataset, combined with provinces and varieties, holds enough information to base recommendations solely on these.\n",
    "\n"
   ]
  },
  {
   "cell_type": "markdown",
   "metadata": {},
   "source": [
    "## Data Wrangling\n",
    "\n",
    "### Checking for duplicates and NaN's\n",
    "Overall there are 129971 different wines in the dataset with 13 columns.  "
   ]
  },
  {
   "cell_type": "code",
   "execution_count": 53,
   "metadata": {},
   "outputs": [
    {
     "name": "stdout",
     "output_type": "stream",
     "text": [
      "<class 'pandas.core.frame.DataFrame'>\n",
      "RangeIndex: 129971 entries, 0 to 129970\n",
      "Data columns (total 14 columns):\n",
      "country                  129908 non-null object\n",
      "description              129971 non-null object\n",
      "designation              92506 non-null object\n",
      "points                   129971 non-null int64\n",
      "price                    120975 non-null float64\n",
      "province                 129908 non-null object\n",
      "region_1                 108724 non-null object\n",
      "region_2                 50511 non-null object\n",
      "taster_name              103727 non-null object\n",
      "taster_twitter_handle    98758 non-null object\n",
      "title                    129971 non-null object\n",
      "variety                  129970 non-null object\n",
      "winery                   129971 non-null object\n",
      "wrangl_desc              129971 non-null object\n",
      "dtypes: float64(1), int64(1), object(12)\n",
      "memory usage: 13.9+ MB\n"
     ]
    }
   ],
   "source": [
    "df.info()"
   ]
  },
  {
   "cell_type": "code",
   "execution_count": 54,
   "metadata": {},
   "outputs": [
    {
     "name": "stdout",
     "output_type": "stream",
     "text": [
      "(63, 14)\n"
     ]
    }
   ],
   "source": [
    "# lets take a look at the NaN provinces\n",
    "print(df[df['province'].isnull()].shape)\n",
    "#df[df['province'].isnull()]"
   ]
  },
  {
   "cell_type": "markdown",
   "metadata": {},
   "source": [
    "There are 63 NaNs in the province column of the dataset."
   ]
  },
  {
   "cell_type": "code",
   "execution_count": 55,
   "metadata": {},
   "outputs": [
    {
     "data": {
      "text/plain": [
       "11131"
      ]
     },
     "execution_count": 55,
     "metadata": {},
     "output_type": "execute_result"
    }
   ],
   "source": [
    "# How many duplicated descriptions are in the data set?\n",
    "df.duplicated('title').sum()"
   ]
  },
  {
   "cell_type": "code",
   "execution_count": 56,
   "metadata": {},
   "outputs": [],
   "source": [
    "# Find duplicate articles\n",
    "#df[df.duplicated(['title'])].sort_values(by = 'title')"
   ]
  },
  {
   "cell_type": "markdown",
   "metadata": {},
   "source": [
    "There are 11131 duplicated descriptions in the the dataset. Let's remove those and the duplicated descriptions and wines."
   ]
  },
  {
   "cell_type": "code",
   "execution_count": 57,
   "metadata": {},
   "outputs": [],
   "source": [
    "df.drop_duplicates('title', inplace=True)\n",
    "df.drop_duplicates('description', inplace=True)\n",
    "df.dropna(subset=['province', 'variety'], inplace=True)"
   ]
  },
  {
   "cell_type": "code",
   "execution_count": 58,
   "metadata": {},
   "outputs": [],
   "source": [
    "# generating a long describtion: combining province, variety, and describtion of each wine\n",
    "df['descr_long'] = df['province'] + ' ' + df['variety'] + ' ' + df['description']"
   ]
  },
  {
   "cell_type": "markdown",
   "metadata": {},
   "source": [
    "#### Extracting the vintage of a wine from its name to filter the dataset to a specific year"
   ]
  },
  {
   "cell_type": "code",
   "execution_count": 59,
   "metadata": {},
   "outputs": [],
   "source": [
    "years = df.title.str.extractall('(\\d+)')\n",
    "years.columns = ['year']\n",
    "years.year = pd.to_numeric(years.year)\n",
    "# filter vintage\n",
    "years = years.query('year == 2016')"
   ]
  },
  {
   "cell_type": "code",
   "execution_count": 60,
   "metadata": {},
   "outputs": [
    {
     "name": "stdout",
     "output_type": "stream",
     "text": [
      "3296\n",
      "3296\n"
     ]
    }
   ],
   "source": [
    "# check if there are duplicated index values\n",
    "print(len(years))\n",
    "print(years.index.get_level_values(level=0).nunique())"
   ]
  },
  {
   "cell_type": "code",
   "execution_count": 61,
   "metadata": {},
   "outputs": [],
   "source": [
    "years.index = years.index.droplevel(level=1)"
   ]
  },
  {
   "cell_type": "code",
   "execution_count": 62,
   "metadata": {},
   "outputs": [],
   "source": [
    "df = pd.concat([df, years], axis=1).dropna(subset=[\"year\"])"
   ]
  },
  {
   "cell_type": "code",
   "execution_count": 63,
   "metadata": {},
   "outputs": [
    {
     "name": "stdout",
     "output_type": "stream",
     "text": [
      "<class 'pandas.core.frame.DataFrame'>\n",
      "Int64Index: 3296 entries, 77 to 129907\n",
      "Data columns (total 16 columns):\n",
      "country                  3296 non-null object\n",
      "description              3296 non-null object\n",
      "designation              2291 non-null object\n",
      "points                   3296 non-null int64\n",
      "price                    3165 non-null float64\n",
      "province                 3296 non-null object\n",
      "region_1                 2453 non-null object\n",
      "region_2                 862 non-null object\n",
      "taster_name              3266 non-null object\n",
      "taster_twitter_handle    3113 non-null object\n",
      "title                    3296 non-null object\n",
      "variety                  3296 non-null object\n",
      "winery                   3296 non-null object\n",
      "wrangl_desc              3296 non-null object\n",
      "descr_long               3296 non-null object\n",
      "year                     3296 non-null float64\n",
      "dtypes: float64(2), int64(1), object(13)\n",
      "memory usage: 437.8+ KB\n"
     ]
    }
   ],
   "source": [
    "df.info()"
   ]
  },
  {
   "cell_type": "markdown",
   "metadata": {},
   "source": [
    "#### Generating an ID for each wine"
   ]
  },
  {
   "cell_type": "code",
   "execution_count": 64,
   "metadata": {},
   "outputs": [],
   "source": [
    "wine_id = list([x for x in range(0,len(df))])\n",
    "df['wine_id'] = wine_id"
   ]
  },
  {
   "cell_type": "markdown",
   "metadata": {},
   "source": [
    "### Looking at the Occurances of frequent words in the descriptions"
   ]
  },
  {
   "cell_type": "code",
   "execution_count": 65,
   "metadata": {},
   "outputs": [],
   "source": [
    "# setting stopwords for now and later use\n",
    "stop_words = set(stopwords.words(\"english\"))"
   ]
  },
  {
   "cell_type": "code",
   "execution_count": 66,
   "metadata": {},
   "outputs": [],
   "source": [
    "# adding not relevant words to the stop_words set\n",
    "irrev = {'wine', 'flavors', 'palate', 'drink', 'aromas', 'nose'}\n",
    "stop_words.update(irrev)"
   ]
  },
  {
   "cell_type": "code",
   "execution_count": 67,
   "metadata": {},
   "outputs": [],
   "source": [
    "# Function to get a wine description:\n",
    "def print_wine(wine_id):\n",
    "    try:\n",
    "        wine = df[df['wine_id']==wine_id]\n",
    "        title = wine.iloc[0,10]\n",
    "        prov = wine.iloc[0,5]\n",
    "        print(\"================================================================================================\")\n",
    "        print(\"Wine: {}\".format(title))\n",
    "        print(\"Province: {}\".format(prov))\n",
    "        print(\"Variety: {}\".format(wine.iloc[0,11]))\n",
    "        print(\"Points: {}\".format(wine.iloc[0,3]))\n",
    "        print(\"Taster: {}\".format(wine.iloc[0,8]))\n",
    "        print(\"Description: {}\".format(wine.iloc[0,1]))\n",
    "        print(\"================================================================================================\")\n",
    "    except:\n",
    "        print(\"Please give a valid wine id (integer 0 to {})\". format(len(df)))"
   ]
  },
  {
   "cell_type": "code",
   "execution_count": 68,
   "metadata": {},
   "outputs": [
    {
     "name": "stdout",
     "output_type": "stream",
     "text": [
      "================================================================================================\n",
      "Wine: La Belle Collection 2016 La Belle Colette Rosé (Côtes de Provence)\n",
      "Province: Provence\n",
      "Variety: Rosé\n",
      "Points: 84\n",
      "Taster: Roger Voss\n",
      "Description: A light and fruity wine, this is attractively crisp and with a caramel edge. The wine is bright with touches of orange and lively final acidity. Drink now.\n",
      "================================================================================================\n"
     ]
    }
   ],
   "source": [
    "print_wine(1743)"
   ]
  },
  {
   "cell_type": "markdown",
   "metadata": {},
   "source": [
    "### Transforming the wine descriptions with tf-idf"
   ]
  },
  {
   "cell_type": "code",
   "execution_count": 69,
   "metadata": {},
   "outputs": [],
   "source": [
    "docs = df.set_index('wine_id').description.astype('U')"
   ]
  },
  {
   "cell_type": "code",
   "execution_count": 70,
   "metadata": {},
   "outputs": [],
   "source": [
    "r = Rake()\n",
    "def tokenize(text):\n",
    "    # normalize case and remove punctuation\n",
    "    text = re.sub(r\"[^a-zA-Z]\", \" \", text.lower())   \n",
    "    r.extract_keywords_from_text(text)\n",
    "    tokens = list(r.get_word_degrees().keys())\n",
    "    tokens = [token for token in tokens if token not in stop_words]\n",
    "    #stemmed = [PorterStemmer().stem(w) for w in tokens]\n",
    "    lemmed = [WordNetLemmatizer().lemmatize(w) for w in tokens]\n",
    "    tagged = nltk.pos_tag(lemmed)\n",
    "    clean_tokens = [token[0] for token in tagged if token[1][0] in ['N', 'J']]\n",
    "    return clean_tokens"
   ]
  },
  {
   "cell_type": "code",
   "execution_count": 71,
   "metadata": {},
   "outputs": [
    {
     "name": "stdout",
     "output_type": "stream",
     "text": [
      "(3296, 3802)\n"
     ]
    }
   ],
   "source": [
    "# Fit the docs to the Vectorizer\n",
    "tf = TfidfVectorizer(tokenizer=tokenize, analyzer='word')\n",
    "   \n",
    "X_docs = tf.fit_transform(docs)\n",
    "labels = list(tf.get_feature_names())\n",
    "\n",
    "print(X_docs.toarray().shape)"
   ]
  },
  {
   "cell_type": "markdown",
   "metadata": {},
   "source": [
    "### Creating a matrix with the cosine similarity of the tf-idf values"
   ]
  },
  {
   "cell_type": "code",
   "execution_count": 72,
   "metadata": {},
   "outputs": [],
   "source": [
    "# get a matrix with the tfidf values\n",
    "corpus_matrix = X_docs.toarray()\n",
    "\n",
    "# Take the dot product for the cosine similarity\n",
    "dot_prod_corpus = corpus_matrix.dot(np.transpose(corpus_matrix))\n",
    "\n",
    "# Create Dataframe with keywords:\n",
    "key_words = pd.DataFrame(data=corpus_matrix, columns = labels).transpose()"
   ]
  },
  {
   "cell_type": "markdown",
   "metadata": {},
   "source": [
    "### Define a function to find top n similar wines for a given wine id"
   ]
  },
  {
   "cell_type": "code",
   "execution_count": 73,
   "metadata": {},
   "outputs": [],
   "source": [
    "# Function to get a wine description:\n",
    "def print_wine(wine_id):\n",
    "    '''\n",
    "    INPUT\n",
    "    wine_id - a wine id\n",
    "    '''\n",
    "    try:\n",
    "        wine = df[df['wine_id']==wine_id]\n",
    "        title = wine.iloc[0,10]\n",
    "        prov = wine.iloc[0,5]\n",
    "        print(\"================================================================================================\")\n",
    "        print(\"Wine: {}\".format(title))\n",
    "        print(\"Province: {}\".format(prov))\n",
    "        print(\"Variety: {}\".format(wine.iloc[0,11]))\n",
    "        print(\"Points: {}\".format(wine.iloc[0,3]))\n",
    "        print(\"Taster: {}\".format(wine.iloc[0,8]))\n",
    "        print(\"Description: {}\".format(wine.iloc[0,1]))\n",
    "        print(\"================================================================================================\")\n",
    "    except:\n",
    "        print(\"Please give a valid wine id (integer 0 to {})\". format(len(df)))"
   ]
  },
  {
   "cell_type": "code",
   "execution_count": 74,
   "metadata": {},
   "outputs": [],
   "source": [
    "def get_wine_names(wine_ids):\n",
    "    '''\n",
    "    INPUT\n",
    "    wine_id - a wine id\n",
    "    OUTPUT\n",
    "    wines - a list of wines associated with the wine_ids\n",
    "    \n",
    "    '''\n",
    "    if type(wine_ids)==int:\n",
    "        wine_ids = [wine_ids]\n",
    "    wine_lst = [df[df.wine_id==wine]['title'].to_string(index=False,header=False) for wine in wine_ids]    \n",
    "   \n",
    "    return wine_lst"
   ]
  },
  {
   "cell_type": "code",
   "execution_count": 75,
   "metadata": {},
   "outputs": [
    {
     "name": "stdout",
     "output_type": "stream",
     "text": [
      "[' Zahel 2016 White (Wiener Gemischter Satz)']\n"
     ]
    },
    {
     "data": {
      "text/html": [
       "<div>\n",
       "<style scoped>\n",
       "    .dataframe tbody tr th:only-of-type {\n",
       "        vertical-align: middle;\n",
       "    }\n",
       "\n",
       "    .dataframe tbody tr th {\n",
       "        vertical-align: top;\n",
       "    }\n",
       "\n",
       "    .dataframe thead th {\n",
       "        text-align: right;\n",
       "    }\n",
       "</style>\n",
       "<table border=\"1\" class=\"dataframe\">\n",
       "  <thead>\n",
       "    <tr style=\"text-align: right;\">\n",
       "      <th></th>\n",
       "      <th>wine_id</th>\n",
       "      <th>wine</th>\n",
       "      <th>similarity</th>\n",
       "      <th>key_words</th>\n",
       "    </tr>\n",
       "  </thead>\n",
       "  <tbody>\n",
       "    <tr>\n",
       "      <th>0</th>\n",
       "      <td>2199</td>\n",
       "      <td>Ebner-Ebenauer 2016 Grüner Veltliner (Niederösterreich)</td>\n",
       "      <td>0.309666</td>\n",
       "      <td>[ample, apple, body, bright, conference, dry, finish, freshness, green, lemon, light, pear, shy,...</td>\n",
       "    </tr>\n",
       "    <tr>\n",
       "      <th>1</th>\n",
       "      <td>2937</td>\n",
       "      <td>Domaine Martin 2016 Les Trois Versants Sur Lie  (Muscadet Sèvre et Maine)</td>\n",
       "      <td>0.291337</td>\n",
       "      <td>[acidity, apple, aromatic, citrus, crisp, delicious, full, ripe, zingy]</td>\n",
       "    </tr>\n",
       "    <tr>\n",
       "      <th>2</th>\n",
       "      <td>2807</td>\n",
       "      <td>Stadlmann 2016 Badener Berg Riesling (Niederösterreich)</td>\n",
       "      <td>0.263501</td>\n",
       "      <td>[aromatic, body, brings, citrus, dry, element, force, fresh, full, grapefruit, juiciness, life, ...</td>\n",
       "    </tr>\n",
       "    <tr>\n",
       "      <th>3</th>\n",
       "      <td>2341</td>\n",
       "      <td>Müller-Grossmann 2016 Rosé vom Zweigelt (Niederösterreich)</td>\n",
       "      <td>0.251625</td>\n",
       "      <td>[aroma, citrus, clean, dry, dulls, finish, fresh, light, load, note, redcurrant, reduction, slight]</td>\n",
       "    </tr>\n",
       "    <tr>\n",
       "      <th>4</th>\n",
       "      <td>427</td>\n",
       "      <td>Domaine G. Metz 2016 Melody Riesling (Alsace)</td>\n",
       "      <td>0.231798</td>\n",
       "      <td>[add, apple, body, citrus, delicious, dry, finish, freshness, golden, hint, lemon, lemony, light...</td>\n",
       "    </tr>\n",
       "  </tbody>\n",
       "</table>\n",
       "</div>"
      ],
      "text/plain": [
       "   wine_id  \\\n",
       "0     2199   \n",
       "1     2937   \n",
       "2     2807   \n",
       "3     2341   \n",
       "4      427   \n",
       "\n",
       "                                                                         wine  \\\n",
       "0                     Ebner-Ebenauer 2016 Grüner Veltliner (Niederösterreich)   \n",
       "1   Domaine Martin 2016 Les Trois Versants Sur Lie  (Muscadet Sèvre et Maine)   \n",
       "2                     Stadlmann 2016 Badener Berg Riesling (Niederösterreich)   \n",
       "3                  Müller-Grossmann 2016 Rosé vom Zweigelt (Niederösterreich)   \n",
       "4                               Domaine G. Metz 2016 Melody Riesling (Alsace)   \n",
       "\n",
       "   similarity  \\\n",
       "0    0.309666   \n",
       "1    0.291337   \n",
       "2    0.263501   \n",
       "3    0.251625   \n",
       "4    0.231798   \n",
       "\n",
       "                                                                                             key_words  \n",
       "0  [ample, apple, body, bright, conference, dry, finish, freshness, green, lemon, light, pear, shy,...  \n",
       "1                              [acidity, apple, aromatic, citrus, crisp, delicious, full, ripe, zingy]  \n",
       "2  [aromatic, body, brings, citrus, dry, element, force, fresh, full, grapefruit, juiciness, life, ...  \n",
       "3  [aroma, citrus, clean, dry, dulls, finish, fresh, light, load, note, redcurrant, reduction, slight]  \n",
       "4  [add, apple, body, citrus, delicious, dry, finish, freshness, golden, hint, lemon, lemony, light...  "
      ]
     },
     "execution_count": 75,
     "metadata": {},
     "output_type": "execute_result"
    }
   ],
   "source": [
    "def find_similar_wines(wine_id, n=5):\n",
    "    '''\n",
    "    INPUT\n",
    "    wine_id - a wine id\n",
    "    n - number of similar wines to return\n",
    "    OUTPUT\n",
    "    df_sim - a dataframe of the most similar wines by id, name and similarity\n",
    "    '''\n",
    "    # find the most similar wine indices \n",
    "    key_words_sims = []\n",
    "    \n",
    "    similar_idxs = np.argsort(dot_prod_corpus[wine_id])[::-1][1:n+1]\n",
    "    sims = np.sort(dot_prod_corpus[wine_id])[::-1][1:n+1]\n",
    "    for idx in similar_idxs:\n",
    "        wine_keys = key_words[key_words[idx] > 0][idx]\n",
    "        wine_keys = list(wine_keys.index)[::1]\n",
    "        key_words_sims.append(wine_keys)\n",
    "\n",
    "    # pull the movie titles based on the indices\n",
    "    similar_wines = get_wine_names(similar_idxs)\n",
    "    \n",
    "    # dataframe with similarities:\n",
    "    d = {'wine_id': similar_idxs, \n",
    "         'wine': similar_wines,\n",
    "        'similarity': sims, \n",
    "        'key_words': key_words_sims}\n",
    "    df_sims = pd.DataFrame(d)\n",
    " \n",
    "    return df_sims\n",
    "\n",
    "df_sims = find_similar_wines(24)\n",
    "print(get_wine_names(24))\n",
    "df_sims.head()"
   ]
  },
  {
   "cell_type": "code",
   "execution_count": 76,
   "metadata": {},
   "outputs": [
    {
     "name": "stdout",
     "output_type": "stream",
     "text": [
      "================================================================================================\n",
      "Wine: Zahel 2016 White (Wiener Gemischter Satz)\n",
      "Province: Wiener Gemischter Satz\n",
      "Variety: White Blend\n",
      "Points: 90\n",
      "Taster: Anne Krebiehl MW\n",
      "Description: Slight reduction still obstructs this wine's nose. The palate, however, is both zingy and rich—spiked with citrus and rounded with ripe, mellow apple fruit. There is verve and life at its core and tone to its medium body. The dry finish is appetizing.\n",
      "================================================================================================\n",
      "2199\n",
      "================================================================================================\n",
      "Wine: Ebner-Ebenauer 2016 Grüner Veltliner (Niederösterreich)\n",
      "Province: Niederösterreich\n",
      "Variety: Grüner Veltliner\n",
      "Points: 89\n",
      "Taster: Anne Krebiehl MW\n",
      "Description: The nose is rather shy, while the palate brings freshly cut green apple and Conference pear. This is precisely but finely drawn with ample lemon freshness and bright verve. The body is light and dry. Bright, lively lemon on the finish sets the tone.\n",
      "================================================================================================\n",
      "2937\n",
      "================================================================================================\n",
      "Wine: Domaine Martin 2016 Les Trois Versants Sur Lie  (Muscadet Sèvre et Maine)\n",
      "Province: Loire Valley\n",
      "Variety: Melon\n",
      "Points: 88\n",
      "Taster: Roger Voss\n",
      "Description: Lightly aromatic, this ripe full wine is beautifully balanced, poised between crisp citrus acidity and ripe apple and pear flavors. It is zingy, textured and delicious to drink now.\n",
      "================================================================================================\n",
      "2807\n",
      "================================================================================================\n",
      "Wine: Stadlmann 2016 Badener Berg Riesling (Niederösterreich)\n",
      "Province: Niederösterreich\n",
      "Variety: Riesling\n",
      "Points: 90\n",
      "Taster: Anne Krebiehl MW\n",
      "Description: Zesty, fresh tangerine and grapefruit notes show on the nose of this textbook dry Riesling. The palate brings those fresh, aromatic citrus elements into full force. Though slender and streamlined in body, it's full of life, vibrant juiciness and verve.\n",
      "================================================================================================\n",
      "2341\n",
      "================================================================================================\n",
      "Wine: Müller-Grossmann 2016 Rosé vom Zweigelt (Niederösterreich)\n",
      "Province: Niederösterreich\n",
      "Variety: Zweigelt\n",
      "Points: 87\n",
      "Taster: Anne Krebiehl MW\n",
      "Description: Slight reduction dulls this wine's aroma. The palate is light-bodied and fresh, with loads of citrus and appetizing redcurrant notes. The finish is clean, dry and refreshing.\n",
      "================================================================================================\n",
      "427\n",
      "================================================================================================\n",
      "Wine: Domaine G. Metz 2016 Melody Riesling (Alsace)\n",
      "Province: Alsace\n",
      "Variety: Riesling\n",
      "Points: 88\n",
      "Taster: Anne Krebiehl MW\n",
      "Description: A subdued nose has just slight hints of citrus and apple. The palate adds some richer notes of Golden Delicious, tempered with lemon freshness. The body is streamlined, light and dry and has a very refreshing lemony finish.\n",
      "================================================================================================\n"
     ]
    }
   ],
   "source": [
    "print_wine(24)\n",
    "for i in df_sims.wine_id:\n",
    "    print(i)\n",
    "    print_wine(i)"
   ]
  },
  {
   "cell_type": "markdown",
   "metadata": {},
   "source": [
    "### Create a function for content based recommendations"
   ]
  },
  {
   "cell_type": "code",
   "execution_count": 77,
   "metadata": {},
   "outputs": [
    {
     "data": {
      "text/plain": [
       "[370, 629, 635, 1507, 1265]"
      ]
     },
     "execution_count": 77,
     "metadata": {},
     "output_type": "execute_result"
    }
   ],
   "source": [
    "# Lets asume there are 100 consumers who bought each 5 wines\n",
    "customer_dict = {}\n",
    "for cust in range(1,101):\n",
    "    customer_dict[cust]= list(np.random.randint(len(df), size=5))\n",
    "customer_dict[2]"
   ]
  },
  {
   "cell_type": "code",
   "execution_count": 78,
   "metadata": {},
   "outputs": [],
   "source": [
    "def make_content_recs(n=5):\n",
    "    '''\n",
    "    INPUT\n",
    "    n - Number of recommendations by user (default = 10)\n",
    "    OUTPUT\n",
    "    recs - a dictionary with keys of the user and values of the recommendations\n",
    "    '''\n",
    "    # Create dictionary to return with customers and recommendations\n",
    "    recs = defaultdict(list)\n",
    "    \n",
    "    # How many customers for progress bar\n",
    "    n_users = len(customer_dict)  \n",
    "    # Create the progressbar\n",
    "    cnter = 0\n",
    "    bar = progressbar.ProgressBar(maxval=n_users+1, \n",
    "                                  widgets=[progressbar.Bar('=', '[', ']'), ' ', progressbar.Percentage()])\n",
    "    bar.start()\n",
    "    \n",
    "    # For each customer\n",
    "    for cust in customer_dict:\n",
    "        # Update the progress bar\n",
    "        cnter+=1 \n",
    "        bar.update(cnter)\n",
    "        \n",
    "        # Wines allready consumed:\n",
    "        cust_wines = customer_dict[cust]\n",
    "        \n",
    "        # find the simmilar wines for each wine_id and concat the data for all articles of the user:\n",
    "        df_recs = pd.DataFrame()\n",
    "        for wine_id in customer_dict[cust]:\n",
    "            df_sim = find_similar_wines(wine_id)\n",
    "            df_recs = pd.concat([df_recs,df_sim])\n",
    "            \n",
    "        #Sorting all wines according the similarity accross all suggestions\n",
    "        df_recs = df_recs.sort_values('similarity', ascending=False).drop_duplicates('wine_id')\n",
    "        \n",
    "        # getting just the ids and filter allready bought wines:\n",
    "        temp_recs = [wine for wine in df_recs.wine_id if wine not in cust_wines]\n",
    "        \n",
    "        # creating the dictionary with just the top n recommendations\n",
    "        recs[cust]=temp_recs[:n]\n",
    "        \n",
    "    bar.finish()\n",
    "    return recs"
   ]
  },
  {
   "cell_type": "code",
   "execution_count": 79,
   "metadata": {
    "scrolled": false
   },
   "outputs": [
    {
     "name": "stderr",
     "output_type": "stream",
     "text": [
      "[========================================================================] 100%\n"
     ]
    }
   ],
   "source": [
    "recommendations = make_content_recs()"
   ]
  },
  {
   "cell_type": "code",
   "execution_count": 80,
   "metadata": {},
   "outputs": [
    {
     "name": "stdout",
     "output_type": "stream",
     "text": [
      "86\n",
      "================================================================================================\n",
      "Wine: Viña Cobos 2016 Felino Chardonnay (Mendoza)\n",
      "Province: Mendoza Province\n",
      "Variety: Chardonnay\n",
      "Points: 89\n",
      "Taster: Michael Schachner\n",
      "Description: Aromas of apple cider, peach and oak lead to a full palate. Flavors of melon and banana have a nutty quality, while this is stable on the finish, with tropical fruit and honeyed flavors. Drink now.\n",
      "================================================================================================\n",
      "209\n",
      "================================================================================================\n",
      "Wine: King Vintners 2016 NEXT Pinot Noir (Oregon)\n",
      "Province: Oregon\n",
      "Variety: Pinot Noir\n",
      "Points: 87\n",
      "Taster: Paul Gregutt\n",
      "Description: NEXT is a new label for King Vintners, a new division of King Estate. This blends grapes from southern Oregon and the Willamette Valley, putting a pleasing toasty character around the light red fruit. A streak of burnt coffee suggests that the barrel influence is still being integrated.\n",
      "================================================================================================\n",
      "2828\n",
      "================================================================================================\n",
      "Wine: Tongue Dancer 2016 Putnam Vineyard Rosé of Pinot Noir (Sonoma Coast)\n",
      "Province: California\n",
      "Variety: Pinot Noir\n",
      "Points: 90\n",
      "Taster: Virginie Boone\n",
      "Description: Proof that that a pink wine can be as serious as it is delicious, this copper-tinged wine from James MacPhail offers almond, cured meat, raspberry, melon and lemon peel flavors. No shrinking violet here; it's at once crisp, fleshy and fully expressive.\n",
      "================================================================================================\n",
      "1216\n",
      "================================================================================================\n",
      "Wine: Domaine de Laballe 2016 Sables Fauves White (Landes)\n",
      "Province: Southwest France\n",
      "Variety: White Blend\n",
      "Points: 86\n",
      "Taster: Roger Voss\n",
      "Description: From sandy soil full of iron oxide, this blend of a range of Southwest grapes comes from a vineyard close to the Atlantic coast. It is a delicious fruity wine with lively acidity, green-fruit and citrus flavors plus a juicy zesty aftertaste. Drink this refreshing wine now.\n",
      "================================================================================================\n",
      "262\n",
      "================================================================================================\n",
      "Wine: Domaine de l'Echelette 2016  Mâcon-Cruzille\n",
      "Province: Burgundy\n",
      "Variety: Chardonnay\n",
      "Points: 86\n",
      "Taster: Roger Voss\n",
      "Description: This wine is crisp and deliciously fruity. With bright acidity, apple and citrus flavors and a strong mineral texture, it is ready to drink.\n",
      "================================================================================================\n"
     ]
    }
   ],
   "source": [
    "# Bought wines from customer 1:\n",
    "for i in customer_dict[1]:\n",
    "    print(i)\n",
    "    print_wine(i)"
   ]
  },
  {
   "cell_type": "code",
   "execution_count": 81,
   "metadata": {},
   "outputs": [
    {
     "name": "stdout",
     "output_type": "stream",
     "text": [
      "2276\n",
      "================================================================================================\n",
      "Wine: Sauvion 2016 Loire Valley  (Muscadet Sèvre et Maine)\n",
      "Province: Loire Valley\n",
      "Variety: Melon\n",
      "Points: 85\n",
      "Taster: Roger Voss\n",
      "Description: This is a soft and fruity wine, ripe with apple flavors and cut with a lightly mineral texture. The wine is bright, crisp and fruity, and ready to drink now.\n",
      "================================================================================================\n",
      "683\n",
      "================================================================================================\n",
      "Wine: Château Grand Bourgeau 2016  Bordeaux Blanc\n",
      "Province: Bordeaux\n",
      "Variety: Sauvignon Blanc\n",
      "Points: 85\n",
      "Taster: Roger Voss\n",
      "Description: This ripe wine is fruity, with both citrus and tropical flavors. Light and bright, with a crisp, tangy texture, it's ready to drink.\n",
      "================================================================================================\n",
      "1879\n",
      "================================================================================================\n",
      "Wine: Quinta do Casal Branco 2016 Terra de Lobos Branco White (Tejo)\n",
      "Province: Tejo\n",
      "Variety: Portuguese White\n",
      "Points: 84\n",
      "Taster: Roger Voss\n",
      "Description: This young, fruity wine is crisp with acidity and light in texture. The wine is bright and lively, ready to drink for its fruitiness.\n",
      "================================================================================================\n",
      "914\n",
      "================================================================================================\n",
      "Wine: Terra Silvestre 2016 Arinto (Tejo)\n",
      "Province: Tejo\n",
      "Variety: Arinto\n",
      "Points: 85\n",
      "Taster: Roger Voss\n",
      "Description: Simple and fruity, this is an immediately approachable wine. Crisp with apple and citrus fruits, it has a light mineral texture and refreshing final acidity. Drink now.\n",
      "================================================================================================\n",
      "454\n",
      "================================================================================================\n",
      "Wine: Bougrier 2016 Domaine Guenault Sauvignon Blanc (Touraine)\n",
      "Province: Loire Valley\n",
      "Variety: Sauvignon Blanc\n",
      "Points: 85\n",
      "Taster: Roger Voss\n",
      "Description: The wine is soft and open. It has some bright citrus and creamed-apple flavors that give it a ripe character. The wine is juicy, fruity and ready to drink.\n",
      "================================================================================================\n"
     ]
    }
   ],
   "source": [
    "# Recommendations for customer 1\n",
    "for i in recommendations[1]:\n",
    "    print(i)\n",
    "    print_wine(i)"
   ]
  },
  {
   "cell_type": "code",
   "execution_count": null,
   "metadata": {},
   "outputs": [],
   "source": []
  }
 ],
 "metadata": {
  "kernelspec": {
   "display_name": "Python 3",
   "language": "python",
   "name": "python3"
  },
  "language_info": {
   "codemirror_mode": {
    "name": "ipython",
    "version": 3
   },
   "file_extension": ".py",
   "mimetype": "text/x-python",
   "name": "python",
   "nbconvert_exporter": "python",
   "pygments_lexer": "ipython3",
   "version": "3.6.8"
  }
 },
 "nbformat": 4,
 "nbformat_minor": 2
}
